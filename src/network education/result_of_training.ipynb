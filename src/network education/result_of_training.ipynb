{
  "nbformat": 4,
  "nbformat_minor": 0,
  "metadata": {
    "colab": {
      "provenance": []
    },
    "kernelspec": {
      "name": "python3",
      "display_name": "Python 3"
    },
    "language_info": {
      "name": "python"
    }
  },
  "cells": [
    {
      "cell_type": "markdown",
      "source": [
        "Model    | average test_loss | average test_accuracy\n",
        ":-------:|:-----------------:|:--------------------:\n",
        "Resnet18 | 0.0758            | 98.864\n",
        "Resnet34 | 0.0266            | 99.886\n",
        "Resnet50 | 0.0324            | 99.546\n"
      ],
      "metadata": {
        "id": "wuDrPFwvhKs6"
      }
    }
  ]
}